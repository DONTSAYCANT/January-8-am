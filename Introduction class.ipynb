{
 "cells": [
  {
   "cell_type": "code",
   "execution_count": null,
   "metadata": {},
   "outputs": [],
   "source": [
    "#Hackerrank account creation\n",
    "\n",
    "\n",
    "https://www.hackerrank.com/  ==> signup + login\n",
    "    \n",
    "    350 - 400 points in python\n",
    "    300 - 400 points in regex\n",
    "\n",
    "\n",
    "#Github account creation and repo creation\n",
    "\n",
    "https://github.com/  ==> signup + login\n",
    "    \n",
    "Your repositories ==> repo name  ===> public ==> Add read me file  ==> create\n",
    "\n",
    "\n",
    "#Python installation\n",
    "\n",
    "#IDE\n",
    " \n",
    "#IDLE  https://www.python.org/downloads/\n",
    "#pycharm\n",
    "#jupyter notebook\n",
    "\n",
    "\n",
    "\n",
    "\n",
    "#Topics / Task section file creation and file upload in repo\n",
    "\n",
    "https://github.com/DONTSAYCANT/January-8-am\n"
   ]
  }
 ],
 "metadata": {
  "kernelspec": {
   "display_name": "Python 3",
   "language": "python",
   "name": "python3"
  },
  "language_info": {
   "codemirror_mode": {
    "name": "ipython",
    "version": 3
   },
   "file_extension": ".py",
   "mimetype": "text/x-python",
   "name": "python",
   "nbconvert_exporter": "python",
   "pygments_lexer": "ipython3",
   "version": "3.7.6"
  }
 },
 "nbformat": 4,
 "nbformat_minor": 4
}

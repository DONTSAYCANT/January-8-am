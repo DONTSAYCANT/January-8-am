{
 "cells": [
  {
   "cell_type": "code",
   "execution_count": null,
   "metadata": {},
   "outputs": [],
   "source": [
    "#Hackerrank account creation\n",
    "\n",
    "\n",
    "https://www.hackerrank.com/  ==> signup + login\n",
    "    \n",
    "    350 - 400 points in python\n",
    "    300 - 400 points in regex\n",
    "\n",
    "\n",
    "#Github account creation and repo creation\n",
    "\n",
    "https://github.com/  ==> signup + login\n",
    "    \n",
    "Your repositories ==> repo name  ===> public ==> Add read me file  ==> create\n",
    "\n",
    "\n",
    "#Python installation\n",
    "\n",
    "#IDE\n",
    " \n",
    "#IDLE  https://www.python.org/downloads/\n",
    "#pycharm\n",
    "#jupyter notebook\n",
    "\n",
    "\n",
    "\n",
    "\n",
    "#Topics / Task section file creation and file upload in repo\n",
    "\n",
    "https://github.com/DONTSAYCANT/January-8-am\n"
   ]
  },
  {
   "cell_type": "code",
   "execution_count": null,
   "metadata": {},
   "outputs": [],
   "source": [
    "#programming basics : \n",
    "variable\n",
    "data type  ===> types int float string char boolean complex\n",
    "operator ternary/Arithmetic/comparison/logical/assignment/membership\n",
    "\n",
    "Data structure ===> basic List tuple dictionary set\n",
    "function ===> inbuilt function user def recursive function\n",
    "\n",
    "#Comments single line multi line comment\n",
    "#print function ==> end spe\n",
    "#len function\n",
    "#type function\n",
    "#input function\n",
    "#data type conversions\n",
    "#formatting output\n",
    "#basic pgms"
   ]
  },
  {
   "cell_type": "code",
   "execution_count": null,
   "metadata": {},
   "outputs": [],
   "source": [
    "#Variable: value keeps changing, bucket/storage to store values\n",
    "#Rules for creating variables in python\n",
    "\n",
    "\n",
    "#Operator\n",
    "ternary/Arithmetic/comparison/logical/assignment/membership\n",
    "\n",
    "\n",
    "#Data type:"
   ]
  },
  {
   "cell_type": "code",
   "execution_count": 1,
   "metadata": {},
   "outputs": [
    {
     "name": "stdout",
     "output_type": "stream",
     "text": [
      "30\n"
     ]
    }
   ],
   "source": [
    "#Add two values\n",
    "\n",
    "\n",
    "integer_input_1 = 10\n",
    "integer_input_2 = 20\n",
    "a = 10\n",
    "b = 20\n",
    "\n",
    "c = a + b\n",
    "\n",
    "print(c)"
   ]
  },
  {
   "cell_type": "code",
   "execution_count": null,
   "metadata": {},
   "outputs": [],
   "source": [
    "#Give good names to the variable (project related words)\n",
    "\n",
    "#Dont use keywords or reserved words or any function name  ===> for while class \n",
    "  https://www.w3schools.com/python/python_ref_keywords.asp\n",
    "\n",
    "#variable can use a-zA-Z0-9_ (alphanumeric) (Special char should not be there)\n",
    "\n",
    "#variable should start with a-z or A-Z or _ (you should not start with 0-9)\n",
    "\n",
    "#you should not have any spaces (_ are allowed)\n",
    "\n",
    "#camelCase\n",
    "\n",
    "#variable case sensitive\n",
    "\n",
    "a = 10\n",
    "\n",
    "A = 20\n"
   ]
  },
  {
   "cell_type": "code",
   "execution_count": 3,
   "metadata": {},
   "outputs": [
    {
     "name": "stdout",
     "output_type": "stream",
     "text": [
      "10\n"
     ]
    }
   ],
   "source": [
    "var1 = 10\n",
    "print(var1)"
   ]
  },
  {
   "cell_type": "code",
   "execution_count": 4,
   "metadata": {},
   "outputs": [
    {
     "ename": "SyntaxError",
     "evalue": "invalid syntax (<ipython-input-4-73af354ae2e7>, line 1)",
     "output_type": "error",
     "traceback": [
      "\u001b[1;36m  File \u001b[1;32m\"<ipython-input-4-73af354ae2e7>\"\u001b[1;36m, line \u001b[1;32m1\u001b[0m\n\u001b[1;33m    1var = 10\u001b[0m\n\u001b[1;37m       ^\u001b[0m\n\u001b[1;31mSyntaxError\u001b[0m\u001b[1;31m:\u001b[0m invalid syntax\n"
     ]
    }
   ],
   "source": [
    "1var = 10\n",
    "print(1var)"
   ]
  },
  {
   "cell_type": "code",
   "execution_count": null,
   "metadata": {},
   "outputs": [],
   "source": [
    "input_integer = 10\n",
    "\n",
    "print()"
   ]
  },
  {
   "cell_type": "code",
   "execution_count": null,
   "metadata": {},
   "outputs": [],
   "source": [
    "#camelCase\n",
    "\n",
    "suiteNameInital = \"var\"\n",
    "\n",
    "variableCreationForFileHandlingPurpose\n",
    "\n",
    "inputInteger = 10"
   ]
  },
  {
   "cell_type": "code",
   "execution_count": null,
   "metadata": {},
   "outputs": [],
   "source": [
    "dynamic typing\n",
    "Type checking"
   ]
  },
  {
   "cell_type": "code",
   "execution_count": 6,
   "metadata": {},
   "outputs": [
    {
     "name": "stdout",
     "output_type": "stream",
     "text": [
      "140720392545104\n",
      "140720392545264\n"
     ]
    }
   ],
   "source": [
    "a = 10\n",
    "\n",
    "b = 10\n",
    "\n",
    "\n",
    "a = a + 5\n",
    "\n",
    "b = b + 10\n",
    "\n",
    "print(id(a))\n",
    "\n",
    "print(id(b))"
   ]
  },
  {
   "cell_type": "code",
   "execution_count": null,
   "metadata": {},
   "outputs": [],
   "source": [
    "#key words or reserved words: \n",
    "\n",
    "#for while def import class "
   ]
  },
  {
   "cell_type": "code",
   "execution_count": null,
   "metadata": {},
   "outputs": [],
   "source": [
    "data type  ===> types int float string char boolean complex\n",
    "\n",
    "\n",
    "#type of data\n",
    "\n",
    "#int      9 10 20\n",
    "#float    20.99  45.89\n",
    "#boolean   True False\n",
    "#complex   5 + 4 j (real and imaginary)\n",
    "#string     string data type ?  ==> common data type\n",
    "\n",
    "array of characters\n",
    "set of chars\n",
    "collection of chars\n",
    "\n",
    "Char ===> \n",
    "\n",
    "whatever you're writing within \"string \" ' string '\n",
    "\n",
    "\n",
    "\n"
   ]
  },
  {
   "cell_type": "code",
   "execution_count": 1,
   "metadata": {},
   "outputs": [
    {
     "name": "stdout",
     "output_type": "stream",
     "text": [
      "value of variable a:  10\n",
      "data type of variable a:  <class 'int'>\n",
      "value of variable b:  90.99\n",
      "data type of variable b:  <class 'float'>\n",
      "value of variable c:  True\n",
      "data type of variable a:  <class 'bool'>\n",
      "value of variable d:  False\n",
      "data type of variable a:  <class 'bool'>\n",
      "value of variable e:  (5+4j)\n",
      "data type of variable e:  <class 'complex'>\n",
      "value of variable f:  10\n",
      "data type of variable f:  <class 'str'>\n",
      "value of variable g:  python\n",
      "data type of variable g:  <class 'str'>\n"
     ]
    }
   ],
   "source": [
    "a = 10\n",
    "print(\"value of variable a: \", a)\n",
    "print(\"data type of variable a: \",type(a)) #type inbuilt function for identifying datatype or data structure of a value\n",
    "\n",
    "b = 90.99\n",
    "print(\"value of variable b: \", b)\n",
    "print(\"data type of variable b: \",type(b))\n",
    "\n",
    "c = True\n",
    "print(\"value of variable c: \", c)\n",
    "print(\"data type of variable a: \",type(c))\n",
    "\n",
    "d = False\n",
    "print(\"value of variable d: \", d)\n",
    "print(\"data type of variable a: \",type(d))\n",
    "\n",
    "e = 5+4j\n",
    "print(\"value of variable e: \", e)\n",
    "print(\"data type of variable e: \",type(e))\n",
    "\n",
    "f = \"10\"\n",
    "print(\"value of variable f: \", f)\n",
    "print(\"data type of variable f: \",type(f))\n",
    "\n",
    "g = \"python\"\n",
    "print(\"value of variable g: \", g)\n",
    "print(\"data type of variable g: \",type(g))"
   ]
  },
  {
   "cell_type": "code",
   "execution_count": 2,
   "metadata": {},
   "outputs": [
    {
     "name": "stdout",
     "output_type": "stream",
     "text": [
      "hi welcome to python class\n",
      "This is related to python programming basics\n",
      "and some basic programs\n",
      "Thanks \n"
     ]
    }
   ],
   "source": [
    "#triple single/double quotes\n",
    "\n",
    "h = \"\"\"hi welcome to python class\n",
    "This is related to python programming basics\n",
    "and some basic programs\n",
    "Thanks \"\"\"\n",
    "\n",
    "print(h)"
   ]
  },
  {
   "cell_type": "code",
   "execution_count": 4,
   "metadata": {},
   "outputs": [
    {
     "name": "stdout",
     "output_type": "stream",
     "text": [
      "I'm fine\n"
     ]
    }
   ],
   "source": [
    "#single quote and double quote\n",
    "\n",
    "\n",
    "#\" \" and ' ' ===> both are same\n",
    "\n",
    "a = \"I'm fine\"\n",
    "\n",
    "\n",
    "\n",
    "#escape sequence\n",
    "\n",
    "b= 'I\\'m fine'\n",
    "\n",
    "print(b)\n",
    "\n",
    "\n",
    "b = \" '  and \"  are called as quotes in python \"\n",
    "\n"
   ]
  },
  {
   "cell_type": "code",
   "execution_count": 5,
   "metadata": {},
   "outputs": [
    {
     "name": "stdout",
     "output_type": "stream",
     "text": [
      "17\n",
      "-5\n",
      "78\n",
      "5.5\n"
     ]
    }
   ],
   "source": [
    "#operator\n",
    "\n",
    "\n",
    "#ternary/Arithmetic/comparison/logical/assignment/membership\n",
    "\n",
    "#used to perfom some operation\n",
    "\n",
    "#Arithmetic operator\n",
    "\n",
    "# + - * / ** % //\n",
    "\n",
    "#Basic ops\n",
    "\n",
    "print(7 + 10) #17\n",
    "\n",
    "print(17 - 22) #-5\n",
    "\n",
    "print(13 * 6) #78\n",
    "\n",
    "print(22 / 4) #5.4\n",
    "\n",
    "\n"
   ]
  },
  {
   "cell_type": "code",
   "execution_count": null,
   "metadata": {},
   "outputs": [],
   "source": [
    "#** power operator\n",
    "\n",
    "print(2 ** 5) #2 * 2 * 2 * 2* 2 #32\n",
    "print(-3 ** 3) #-27\n",
    "print(10 ** 4) #10000\n",
    "print(8 ** 3) #512\n",
    "\n",
    "\n",
    "#% Modulus operator\n",
    "\n",
    "print(13 % 3) #1\n",
    "print(20 % 7) #6\n",
    "print(15 % 4) #3\n",
    "print(20 % 9) #2\n",
    "\n",
    "\n",
    "#12 % 6 ===> 0\n",
    "#13 % 6 ===> 1\n",
    "#14 % 6 ===> 2\n",
    "\n",
    "\n",
    "\n",
    "#//  floor div\n",
    "\n",
    "#Do normal divison\n",
    "#plot you value in scale\n",
    "#identify small value\n",
    "\n",
    "print(5 // 2)\n",
    "\n",
    "#5/2 ===> 2.5\n",
    "#-5 -4 -3 -2 -1 0 1 2 3 4 5\n",
    "#2 and 3 ===> 2 is the minimum\n",
    "#Ans: 2\n",
    "\n",
    "print(-5 // 2)\n",
    "\n",
    "#-5/2 ==> -2.5\n",
    "#-5 -4 -3 -2 -1 0 1 2 3 4 5\n",
    "#-3 and -2 ===> -3 is minimum\n",
    "#-5 // 2 ===> -3\n",
    "\n",
    "print(7 // 2) #3\n",
    "print(5 // 4) # 1\n",
    "print(-5 // 2) # -3\n",
    "print(-20 // 2) #-10\n",
    "print(-10 // 4) #-3\n",
    "print(20 // 8) #2\n",
    "\n",
    "\n",
    "# 12 students \n",
    "\n",
    "# 63 note books\n",
    "\n",
    "print(63 // 12)"
   ]
  },
  {
   "cell_type": "code",
   "execution_count": 6,
   "metadata": {},
   "outputs": [
    {
     "name": "stdout",
     "output_type": "stream",
     "text": [
      "5\n"
     ]
    }
   ],
   "source": [
    "print(63 // 12)"
   ]
  },
  {
   "cell_type": "code",
   "execution_count": 8,
   "metadata": {},
   "outputs": [
    {
     "name": "stdout",
     "output_type": "stream",
     "text": [
      "<class 'complex'>\n",
      "5.0\n",
      "4.0\n"
     ]
    }
   ],
   "source": [
    "a = 5 + 4j\n",
    "\n",
    "print(type(a))\n",
    "print(a.real)\n",
    "print(a.imag)"
   ]
  },
  {
   "cell_type": "code",
   "execution_count": null,
   "metadata": {},
   "outputs": [],
   "source": [
    "#print function"
   ]
  },
  {
   "cell_type": "code",
   "execution_count": null,
   "metadata": {},
   "outputs": [],
   "source": [
    "#floor divison\n",
    "#round\n",
    "#ceil \n",
    "\n",
    "\n",
    "5 floor  2 ==> 2\n",
    "5 ceil   2 ==> 3\n",
    "5 round 2  ==>"
   ]
  },
  {
   "cell_type": "code",
   "execution_count": 1,
   "metadata": {},
   "outputs": [
    {
     "name": "stdout",
     "output_type": "stream",
     "text": [
      "1.4\n",
      "-1.4\n"
     ]
    }
   ],
   "source": [
    "print(7 / 5)\n",
    "print(-7 / 5)"
   ]
  },
  {
   "cell_type": "code",
   "execution_count": 8,
   "metadata": {},
   "outputs": [
    {
     "name": "stdout",
     "output_type": "stream",
     "text": [
      "True\n",
      "False\n",
      "False\n",
      "True\n",
      "True\n",
      "True\n",
      "False\n",
      "True\n",
      "True\n"
     ]
    }
   ],
   "source": [
    "#comparison/logical/assignment/membership\n",
    "\n",
    "a = 10\n",
    "b = 3\n",
    "\n",
    "#< > <= >= != ==\n",
    "#boolean datatype output\n",
    "\n",
    "print(a > b)\n",
    "print(a < b)\n",
    "print(a == b)\n",
    "print(a != b)\n",
    "\n",
    "\n",
    "#= ===> assignment operator\n",
    "\n",
    "\n",
    "#and or not ===> logical operators\n",
    "\n",
    "#For multiple compares\n",
    "\n",
    "print(a > b and a != b)\n",
    "#AND  if all the condition true then it returns true otherwise false\n",
    "\n",
    "#OR if all the condition false then it returns false otherwise true\n",
    "\n",
    "\n",
    "#membership in ==> for loop, checking substring\n",
    "\n",
    "print(\"py\" in \"python\")\n",
    "print(\"z\" in \"python\")\n",
    "\n",
    "print(10 in [12,13,14,10,12,8,7])\n",
    "\n",
    "print(\"z\" not in \"python\")\n",
    "\n"
   ]
  },
  {
   "cell_type": "code",
   "execution_count": 9,
   "metadata": {},
   "outputs": [
    {
     "name": "stdout",
     "output_type": "stream",
     "text": [
      "4\n",
      "5\n",
      "6\n",
      "7\n",
      "3\n",
      "2\n"
     ]
    }
   ],
   "source": [
    "Li = [4,5,6,7,3,2]\n",
    "\n",
    "for i in Li:\n",
    "    print(i)"
   ]
  },
  {
   "cell_type": "code",
   "execution_count": null,
   "metadata": {},
   "outputs": [],
   "source": [
    "#Data structure or sequences:\n",
    "\n",
    "#List\n",
    "\n",
    "#Tuple\n",
    "\n",
    "#set\n",
    "\n",
    "#Dictionary\n",
    "\n",
    "#collection/set of elements\n",
    "\n",
    "a = \"name\"\n",
    "b = \"address\"\n",
    "c = \"train name\"\n",
    "\n",
    "value = [\"name\", \"address\", \"train name\", \"train number\"]\n",
    "\n",
    "#Function:\n",
    "\n",
    "#Function def ==> redundant code\n",
    "#Function call ? \n",
    "\n",
    "#set \n",
    "\n",
    "#Inbuilt functions ==> \n",
    "\n",
    "#defined in installed package\n",
    "\n",
    "#User def function  ==> function def and function call \n",
    "\n",
    "#recursive function\n",
    "\n"
   ]
  },
  {
   "cell_type": "code",
   "execution_count": 17,
   "metadata": {},
   "outputs": [
    {
     "name": "stdout",
     "output_type": "stream",
     "text": [
      "4\n",
      "15\n",
      "<class 'str'>\n",
      "<class 'int'>\n",
      "<class 'list'>\n"
     ]
    }
   ],
   "source": [
    "\n",
    "#len function\n",
    "\n",
    "a = \" python $$$ ^^#\" #\" \" \"p\" \"y\" \"t\" \"h\" \"o\" \"n\" \" \"\n",
    "\n",
    "\n",
    "\n",
    "value = [\"name\", \"address\", \"train name\", \"train number\"]\n",
    "\n",
    "print(len(value))\n",
    "print(len(a))\n",
    "\n",
    "b = 4\n",
    "\n",
    "#print(len(b))\n",
    "\n",
    "print(type(a))\n",
    "print(type(b))\n",
    "print(type(value))\n",
    "\n",
    "#type function\n",
    "\n",
    "#==> data type or data structure\n",
    "\n",
    "\n",
    "#input function\n",
    "#data type conversions\n",
    "#formatting output\n",
    "#basic pgms"
   ]
  },
  {
   "cell_type": "code",
   "execution_count": 23,
   "metadata": {},
   "outputs": [
    {
     "name": "stdout",
     "output_type": "stream",
     "text": [
      "10 20^^hello\t100\n",
      "(20+5j)*"
     ]
    }
   ],
   "source": [
    "#print function ==> end spe\n",
    "\n",
    "print(10, end=\" \")\n",
    "print(20, end = \"^^\")\n",
    "print(\"hello\",end=\"\\t\")\n",
    "print(100)\n",
    "print(20 + 5j,end = \"*\")"
   ]
  },
  {
   "cell_type": "code",
   "execution_count": 27,
   "metadata": {},
   "outputs": [
    {
     "name": "stdout",
     "output_type": "stream",
     "text": [
      "10&&20&&30\n"
     ]
    }
   ],
   "source": [
    "print(10,20,30, sep=\"&&\")"
   ]
  },
  {
   "cell_type": "code",
   "execution_count": null,
   "metadata": {},
   "outputs": [],
   "source": []
  }
 ],
 "metadata": {
  "kernelspec": {
   "display_name": "Python 3",
   "language": "python",
   "name": "python3"
  },
  "language_info": {
   "codemirror_mode": {
    "name": "ipython",
    "version": 3
   },
   "file_extension": ".py",
   "mimetype": "text/x-python",
   "name": "python",
   "nbconvert_exporter": "python",
   "pygments_lexer": "ipython3",
   "version": "3.7.6"
  }
 },
 "nbformat": 4,
 "nbformat_minor": 4
}

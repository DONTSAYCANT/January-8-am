{
 "cells": [
  {
   "cell_type": "code",
   "execution_count": null,
   "metadata": {},
   "outputs": [],
   "source": [
    "#Hackerrank account creation\n",
    "\n",
    "\n",
    "https://www.hackerrank.com/  ==> signup + login\n",
    "    \n",
    "    350 - 400 points in python\n",
    "    300 - 400 points in regex\n",
    "\n",
    "\n",
    "#Github account creation and repo creation\n",
    "\n",
    "https://github.com/  ==> signup + login\n",
    "    \n",
    "Your repositories ==> repo name  ===> public ==> Add read me file  ==> create\n",
    "\n",
    "\n",
    "#Python installation\n",
    "\n",
    "#IDE\n",
    " \n",
    "#IDLE  https://www.python.org/downloads/\n",
    "#pycharm\n",
    "#jupyter notebook\n",
    "\n",
    "\n",
    "\n",
    "\n",
    "#Topics / Task section file creation and file upload in repo\n",
    "\n",
    "https://github.com/DONTSAYCANT/January-8-am\n"
   ]
  },
  {
   "cell_type": "code",
   "execution_count": null,
   "metadata": {},
   "outputs": [],
   "source": [
    "#programming basics : \n",
    "variable\n",
    "data type  ===> types int float string char boolean complex\n",
    "operator ternary/Arithmetic/comparison/logical/assignment/membership\n",
    "Data structure ===> basic List tuple dictionary set\n",
    "function ===> inbuilt function user def recursive function\n",
    "\n",
    "#Comments single line multi line comment\n",
    "#print function ==> end spe\n",
    "#len function\n",
    "#type function\n",
    "#input function\n",
    "#data type conversions\n",
    "#formatting output\n",
    "#basic pgms"
   ]
  },
  {
   "cell_type": "code",
   "execution_count": null,
   "metadata": {},
   "outputs": [],
   "source": [
    "#Variable: value keeps changing, bucket/storage to store values\n",
    "#Rules for creating variables in python\n",
    "\n",
    "\n",
    "#Operator\n",
    "ternary/Arithmetic/comparison/logical/assignment/membership\n",
    "\n",
    "\n",
    "#Data type:"
   ]
  },
  {
   "cell_type": "code",
   "execution_count": 1,
   "metadata": {},
   "outputs": [
    {
     "name": "stdout",
     "output_type": "stream",
     "text": [
      "30\n"
     ]
    }
   ],
   "source": [
    "#Add two values\n",
    "\n",
    "\n",
    "integer_input_1 = 10\n",
    "integer_input_2 = 20\n",
    "a = 10\n",
    "b = 20\n",
    "\n",
    "c = a + b\n",
    "\n",
    "print(c)"
   ]
  },
  {
   "cell_type": "code",
   "execution_count": null,
   "metadata": {},
   "outputs": [],
   "source": [
    "#Give good names to the variable (project related words)\n",
    "\n",
    "#Dont use keywords or reserved words or any function name  ===> for while class \n",
    "  https://www.w3schools.com/python/python_ref_keywords.asp\n",
    "\n",
    "#variable can use a-zA-Z0-9_ (alphanumeric) (Special char should not be there)\n",
    "\n",
    "#variable should start with a-z or A-Z or _ (you should not start with 0-9)\n",
    "\n",
    "#you should not have any spaces (_)\n",
    "\n",
    "#camelCase\n"
   ]
  },
  {
   "cell_type": "code",
   "execution_count": 3,
   "metadata": {},
   "outputs": [
    {
     "name": "stdout",
     "output_type": "stream",
     "text": [
      "10\n"
     ]
    }
   ],
   "source": [
    "var1 = 10\n",
    "print(var1)"
   ]
  },
  {
   "cell_type": "code",
   "execution_count": 4,
   "metadata": {},
   "outputs": [
    {
     "ename": "SyntaxError",
     "evalue": "invalid syntax (<ipython-input-4-73af354ae2e7>, line 1)",
     "output_type": "error",
     "traceback": [
      "\u001b[1;36m  File \u001b[1;32m\"<ipython-input-4-73af354ae2e7>\"\u001b[1;36m, line \u001b[1;32m1\u001b[0m\n\u001b[1;33m    1var = 10\u001b[0m\n\u001b[1;37m       ^\u001b[0m\n\u001b[1;31mSyntaxError\u001b[0m\u001b[1;31m:\u001b[0m invalid syntax\n"
     ]
    }
   ],
   "source": [
    "1var = 10\n",
    "print(1var)"
   ]
  },
  {
   "cell_type": "code",
   "execution_count": null,
   "metadata": {},
   "outputs": [],
   "source": [
    "input_integer = 10\n",
    "\n",
    "print()"
   ]
  },
  {
   "cell_type": "code",
   "execution_count": null,
   "metadata": {},
   "outputs": [],
   "source": [
    "#camelCase\n",
    "\n",
    "suiteNameInital = \"var\"\n",
    "\n",
    "variableCreationForFileHandlingPurpose\n",
    "\n",
    "inputInteger = 10"
   ]
  },
  {
   "cell_type": "code",
   "execution_count": null,
   "metadata": {},
   "outputs": [],
   "source": [
    "dynamic typing\n",
    "Type checking"
   ]
  },
  {
   "cell_type": "code",
   "execution_count": 6,
   "metadata": {},
   "outputs": [
    {
     "name": "stdout",
     "output_type": "stream",
     "text": [
      "140720392545104\n",
      "140720392545264\n"
     ]
    }
   ],
   "source": [
    "a = 10\n",
    "\n",
    "b = 10\n",
    "\n",
    "\n",
    "a = a + 5\n",
    "\n",
    "b = b + 10\n",
    "\n",
    "print(id(a))\n",
    "\n",
    "print(id(b))"
   ]
  },
  {
   "cell_type": "code",
   "execution_count": null,
   "metadata": {},
   "outputs": [],
   "source": []
  }
 ],
 "metadata": {
  "kernelspec": {
   "display_name": "Python 3",
   "language": "python",
   "name": "python3"
  },
  "language_info": {
   "codemirror_mode": {
    "name": "ipython",
    "version": 3
   },
   "file_extension": ".py",
   "mimetype": "text/x-python",
   "name": "python",
   "nbconvert_exporter": "python",
   "pygments_lexer": "ipython3",
   "version": "3.7.6"
  }
 },
 "nbformat": 4,
 "nbformat_minor": 4
}

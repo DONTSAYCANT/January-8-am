{
 "cells": [
  {
   "cell_type": "code",
   "execution_count": 3,
   "metadata": {},
   "outputs": [
    {
     "name": "stdout",
     "output_type": "stream",
     "text": [
      "['rrrrr', '18/04/1950', 'delhi', 'gurugram', 'second class']\n",
      "second class\n",
      "['rrrrr', 'delhi', 'second class']\n"
     ]
    }
   ],
   "source": [
    "#Data Structures\n",
    "\n",
    "\n",
    "#Multiple values in single variable\n",
    "\n",
    "#storing values efficienly\n",
    "\n",
    "a = \"rrrrr\"\n",
    "\n",
    "b = \"18/04/1950\"\n",
    "\n",
    "c = \"delhi\"\n",
    "\n",
    "d = \"gurugram\"\n",
    "\n",
    "e = \"second class\"\n",
    "\n",
    "\n",
    "List1 = [\"rrrrr\", \"18/04/1950\", \"delhi\", \"gurugram\", \"second class\"]\n",
    "\n",
    "print(List1)\n",
    "\n",
    "#Indexing\n",
    "\n",
    "print(List1[-1])\n",
    "\n",
    "print(List1[::2])"
   ]
  },
  {
   "cell_type": "code",
   "execution_count": null,
   "metadata": {},
   "outputs": [],
   "source": [
    "#heterogenous\n",
    "\n",
    "#List\n",
    "\n",
    "[]\n",
    "Indexing supported\n",
    "duplicates are allowed\n",
    "concatenation supported\n",
    "Mutable\n",
    "\n",
    "\n",
    "\n",
    "\n",
    "#Tuple\n",
    "\n",
    "\n",
    "\n",
    "\n",
    "#Set\n",
    "{}\n",
    "duplicates are not allowed\n",
    "\n",
    "\n",
    "\n",
    "\n",
    "#Dictionary\n",
    "\n"
   ]
  },
  {
   "cell_type": "code",
   "execution_count": 4,
   "metadata": {},
   "outputs": [
    {
     "name": "stdout",
     "output_type": "stream",
     "text": [
      "[3, 4, 5, 6, 'hello', False]\n",
      "<class 'list'>\n"
     ]
    }
   ],
   "source": [
    "#List:\n",
    "\n",
    "li = [3,4,5,6,\"hello\",False] #list \n",
    "\n",
    "print(li)\n",
    "\n",
    "print(type(li))"
   ]
  },
  {
   "cell_type": "code",
   "execution_count": 5,
   "metadata": {},
   "outputs": [
    {
     "name": "stdout",
     "output_type": "stream",
     "text": [
      "['rrrrr', '18/04/1950', 'delhi', 'gurugram', 'second class']\n",
      "second class\n",
      "['rrrrr', 'delhi', 'second class']\n"
     ]
    }
   ],
   "source": [
    "#Indexing supported\n",
    "\n",
    "List1 = [\"rrrrr\", \"18/04/1950\", \"delhi\", \"gurugram\", \"second class\"]\n",
    "\n",
    "print(List1)\n",
    "\n",
    "#Indexing\n",
    "\n",
    "print(List1[-1])\n",
    "\n",
    "print(List1[::2])"
   ]
  },
  {
   "cell_type": "code",
   "execution_count": 8,
   "metadata": {},
   "outputs": [
    {
     "name": "stdout",
     "output_type": "stream",
     "text": [
      "{False, 3, 'hello', 4, 5, 6, 13}\n",
      "<class 'set'>\n"
     ]
    }
   ],
   "source": [
    "li = {3,4,5,6,\"hello\",False,3,3,3,3,13} #duplicates are not allowed\n",
    "\n",
    "print(li)\n",
    "\n",
    "print(type(li))"
   ]
  },
  {
   "cell_type": "code",
   "execution_count": 7,
   "metadata": {},
   "outputs": [
    {
     "name": "stdout",
     "output_type": "stream",
     "text": [
      "[3, 4, 5, 6, 'hello', False, 3, 3, 3, 3, 13]\n",
      "<class 'list'>\n"
     ]
    }
   ],
   "source": [
    "li = [3,4,5,6,\"hello\",False,3,3,3,3,13] #duplicates are allowed\n",
    "\n",
    "print(li)\n",
    "\n",
    "print(type(li))"
   ]
  },
  {
   "cell_type": "markdown",
   "metadata": {},
   "source": [
    "## List methods"
   ]
  },
  {
   "cell_type": "code",
   "execution_count": 11,
   "metadata": {},
   "outputs": [
    {
     "name": "stdout",
     "output_type": "stream",
     "text": [
      "[]\n",
      "<class 'list'>\n",
      "[]\n",
      "<class 'list'>\n"
     ]
    }
   ],
   "source": [
    "#Creation of empty list\n",
    "\n",
    "li1 = []\n",
    "\n",
    "print(li1)\n",
    "print(type(li1))\n",
    "\n",
    "li2 = list()\n",
    "print(li2)\n",
    "print(type(li2))"
   ]
  },
  {
   "cell_type": "code",
   "execution_count": 12,
   "metadata": {},
   "outputs": [
    {
     "name": "stdout",
     "output_type": "stream",
     "text": [
      "[3, 4, 5, 6, 7, 1, 2, 0, 9, 3, 4]\n"
     ]
    }
   ],
   "source": [
    "#Concatenation\n",
    "\n",
    "li1 = [3,4,5,6,7]\n",
    "li2 = [1,2,0,9,3,4]\n",
    "\n",
    "print(li1 + li2)"
   ]
  },
  {
   "cell_type": "code",
   "execution_count": 13,
   "metadata": {},
   "outputs": [
    {
     "name": "stdout",
     "output_type": "stream",
     "text": [
      "[2, 3, 4, 5, 100, 1, 7, 8, 20]\n"
     ]
    }
   ],
   "source": [
    "#mutable / list assignment possible\n",
    "\n",
    "li1 = [2,3,4,5,6,1,7,8,20]\n",
    "\n",
    "li1[4] = 100\n",
    "\n",
    "print(li1)"
   ]
  },
  {
   "cell_type": "code",
   "execution_count": 15,
   "metadata": {},
   "outputs": [
    {
     "ename": "TypeError",
     "evalue": "'str' object does not support item assignment",
     "output_type": "error",
     "traceback": [
      "\u001b[1;31m---------------------------------------------------------------------------\u001b[0m",
      "\u001b[1;31mTypeError\u001b[0m                                 Traceback (most recent call last)",
      "\u001b[1;32m<ipython-input-15-3f04a7f9e569>\u001b[0m in \u001b[0;36m<module>\u001b[1;34m\u001b[0m\n\u001b[0;32m      1\u001b[0m \u001b[0mstr1\u001b[0m \u001b[1;33m=\u001b[0m \u001b[1;34m\"mathematics\"\u001b[0m\u001b[1;33m\u001b[0m\u001b[1;33m\u001b[0m\u001b[0m\n\u001b[0;32m      2\u001b[0m \u001b[1;33m\u001b[0m\u001b[0m\n\u001b[1;32m----> 3\u001b[1;33m \u001b[0mstr1\u001b[0m\u001b[1;33m[\u001b[0m\u001b[1;36m4\u001b[0m\u001b[1;33m]\u001b[0m \u001b[1;33m=\u001b[0m \u001b[1;36m100\u001b[0m\u001b[1;33m\u001b[0m\u001b[1;33m\u001b[0m\u001b[0m\n\u001b[0m\u001b[0;32m      4\u001b[0m \u001b[1;33m\u001b[0m\u001b[0m\n\u001b[0;32m      5\u001b[0m \u001b[0mprint\u001b[0m\u001b[1;33m(\u001b[0m\u001b[0mstr1\u001b[0m\u001b[1;33m)\u001b[0m\u001b[1;33m\u001b[0m\u001b[1;33m\u001b[0m\u001b[0m\n",
      "\u001b[1;31mTypeError\u001b[0m: 'str' object does not support item assignment"
     ]
    }
   ],
   "source": [
    "str1 = \"mathematics\"\n",
    "\n",
    "str1[4] = 100\n",
    "\n",
    "print(str1)"
   ]
  },
  {
   "cell_type": "code",
   "execution_count": 16,
   "metadata": {},
   "outputs": [
    {
     "name": "stdout",
     "output_type": "stream",
     "text": [
      "[3, 4, 5, 6, 'hello', 100]\n"
     ]
    }
   ],
   "source": [
    "#append\n",
    "\n",
    "Li1 = [3,4,5,6,\"hello\"]\n",
    "\n",
    "Li1.append(100)\n",
    "\n",
    "print(Li1)"
   ]
  },
  {
   "cell_type": "code",
   "execution_count": 17,
   "metadata": {},
   "outputs": [
    {
     "name": "stdout",
     "output_type": "stream",
     "text": [
      "[3, 4, 5, 1000, 6, 'hello']\n"
     ]
    }
   ],
   "source": [
    "#insert\n",
    "\n",
    "Li1 = [3,4,5,6,\"hello\"]\n",
    "\n",
    "Li1.insert(3,1000) #(index, value)\n",
    "\n",
    "print(Li1)"
   ]
  },
  {
   "cell_type": "code",
   "execution_count": 18,
   "metadata": {},
   "outputs": [
    {
     "name": "stdout",
     "output_type": "stream",
     "text": [
      "[1, 2, 3, 4, 5, 100, 200]\n"
     ]
    }
   ],
   "source": [
    "#extend\n",
    "\n",
    "Li1 = [1,2,3,4,5]\n",
    "Li2 = [100,200]\n",
    "\n",
    "Li1.extend(Li2)\n",
    "\n",
    "print(Li1)"
   ]
  },
  {
   "cell_type": "code",
   "execution_count": 19,
   "metadata": {},
   "outputs": [
    {
     "name": "stdout",
     "output_type": "stream",
     "text": [
      "[100, 200, 400, -100, -2]\n"
     ]
    }
   ],
   "source": [
    "#pop\n",
    "\n",
    "Li1 = [100,200,300,400,-100,-2]\n",
    "\n",
    "Li1.pop(2) #index\n",
    "\n",
    "print(Li1)"
   ]
  },
  {
   "cell_type": "code",
   "execution_count": 20,
   "metadata": {},
   "outputs": [
    {
     "name": "stdout",
     "output_type": "stream",
     "text": [
      "[100, 300, 400, -100, -2]\n"
     ]
    }
   ],
   "source": [
    "#remove\n",
    "\n",
    "Li1 = [100,200,300,400,-100,-2]\n",
    "\n",
    "Li1.remove(200) #particular element\n",
    "\n",
    "print(Li1)"
   ]
  },
  {
   "cell_type": "code",
   "execution_count": 23,
   "metadata": {},
   "outputs": [
    {
     "name": "stdout",
     "output_type": "stream",
     "text": [
      "2\n"
     ]
    },
    {
     "ename": "ValueError",
     "evalue": "4 is not in list",
     "output_type": "error",
     "traceback": [
      "\u001b[1;31m---------------------------------------------------------------------------\u001b[0m",
      "\u001b[1;31mValueError\u001b[0m                                Traceback (most recent call last)",
      "\u001b[1;32m<ipython-input-23-b76090ed7a03>\u001b[0m in \u001b[0;36m<module>\u001b[1;34m\u001b[0m\n\u001b[0;32m      5\u001b[0m \u001b[1;33m\u001b[0m\u001b[0m\n\u001b[0;32m      6\u001b[0m \u001b[0mprint\u001b[0m\u001b[1;33m(\u001b[0m\u001b[0mLi1\u001b[0m\u001b[1;33m.\u001b[0m\u001b[0mindex\u001b[0m\u001b[1;33m(\u001b[0m\u001b[1;36m300\u001b[0m\u001b[1;33m)\u001b[0m\u001b[1;33m)\u001b[0m\u001b[1;33m\u001b[0m\u001b[1;33m\u001b[0m\u001b[0m\n\u001b[1;32m----> 7\u001b[1;33m \u001b[0mprint\u001b[0m\u001b[1;33m(\u001b[0m\u001b[0mLi1\u001b[0m\u001b[1;33m.\u001b[0m\u001b[0mindex\u001b[0m\u001b[1;33m(\u001b[0m\u001b[1;36m4\u001b[0m\u001b[1;33m)\u001b[0m\u001b[1;33m)\u001b[0m\u001b[1;33m\u001b[0m\u001b[1;33m\u001b[0m\u001b[0m\n\u001b[0m",
      "\u001b[1;31mValueError\u001b[0m: 4 is not in list"
     ]
    }
   ],
   "source": [
    "#index\n",
    "\n",
    "Li1 = [100,200,300,400,-100,-2,300]\n",
    "\n",
    "\n",
    "print(Li1.index(300))\n",
    "print(Li1.index(4))\n",
    "\n",
    "#element should be available\n",
    "#it will identify for first existence"
   ]
  },
  {
   "cell_type": "code",
   "execution_count": 24,
   "metadata": {},
   "outputs": [
    {
     "name": "stdout",
     "output_type": "stream",
     "text": [
      "2\n",
      "0\n",
      "1\n"
     ]
    }
   ],
   "source": [
    "#count\n",
    "\n",
    "Li1 = [3,4,5,6,2,1,2,3,4,10]\n",
    "\n",
    "print(Li1.count(3))\n",
    "print(Li1.count(0))\n",
    "print(Li1.count(10))"
   ]
  },
  {
   "cell_type": "code",
   "execution_count": 25,
   "metadata": {},
   "outputs": [
    {
     "name": "stdout",
     "output_type": "stream",
     "text": [
      "[]\n"
     ]
    }
   ],
   "source": [
    "#clear\n",
    "\n",
    "Li1 = [3,4,5,6,2,1,2,3,4,10]\n",
    "\n",
    "Li1.clear()\n",
    "\n",
    "print(Li1)"
   ]
  },
  {
   "cell_type": "code",
   "execution_count": 27,
   "metadata": {},
   "outputs": [
    {
     "name": "stdout",
     "output_type": "stream",
     "text": [
      "[3, 4, 5, 6, 2, 1, 2, 3, 4, 10]\n",
      "[3, 4, 5, 6, 2, 1, 2, 3, 4, 10]\n",
      "[3, 4, 5, 100, 2, 1, 2, 3, 4, 10]\n",
      "[3, 4, 5, 100, 2, 1, 2, 3, 4, 10]\n",
      "1900224939528\n",
      "1900224939528\n"
     ]
    }
   ],
   "source": [
    "#copy\n",
    "\n",
    "Li1 = [3,4,5,6,2,1,2,3,4,10]\n",
    "Li2 = Li1 #shallow copy\n",
    "\n",
    "print(Li1)\n",
    "print(Li2)\n",
    "\n",
    "Li1[3] = 100\n",
    "\n",
    "print(Li1)\n",
    "print(Li2)\n",
    "\n",
    "print(id(Li1))\n",
    "print(id(Li2))"
   ]
  },
  {
   "cell_type": "code",
   "execution_count": 29,
   "metadata": {},
   "outputs": [
    {
     "name": "stdout",
     "output_type": "stream",
     "text": [
      "[3, 4, 5, 6, 2, 1, 2, 3, 4, 10]\n",
      "[3, 4, 5, 6, 2, 1, 2, 3, 4, 10]\n",
      "[3, 4, 5, 100, 2, 1, 2, 3, 4, 10]\n",
      "[3, 4, 5, 6, 2, 1, 2, 3, 4, 10]\n",
      "1900225360200\n",
      "1900225516104\n"
     ]
    }
   ],
   "source": [
    "Li1 = [3,4,5,6,2,1,2,3,4,10]\n",
    "Li2 = Li1.copy() #deep copy\n",
    "\n",
    "print(Li1)\n",
    "print(Li2)\n",
    "\n",
    "Li1[3] = 100\n",
    "\n",
    "print(Li1)\n",
    "print(Li2)\n",
    "\n",
    "print(id(Li1))\n",
    "print(id(Li2))"
   ]
  },
  {
   "cell_type": "code",
   "execution_count": 30,
   "metadata": {},
   "outputs": [
    {
     "name": "stdout",
     "output_type": "stream",
     "text": [
      "[3, 4, 5, 6, 2, 1, 2, 3, 4, 10]\n",
      "[3, 4, 5, 6, 2, 1, 2, 3, 4, 10]\n",
      "[3, 4, 5, 100, 2, 1, 2, 3, 4, 10]\n",
      "[3, 4, 5, 6, 2, 1, 2, 3, 4, 10]\n",
      "1900226501576\n",
      "1900225570184\n"
     ]
    }
   ],
   "source": [
    "Li1 = [3,4,5,6,2,1,2,3,4,10]\n",
    "Li2 = [3,4,5,6,2,1,2,3,4,10]\n",
    "\n",
    "print(Li1)\n",
    "print(Li2)\n",
    "\n",
    "Li1[3] = 100\n",
    "\n",
    "print(Li1)\n",
    "print(Li2)\n",
    "\n",
    "print(id(Li1))\n",
    "print(id(Li2))"
   ]
  },
  {
   "cell_type": "code",
   "execution_count": 31,
   "metadata": {},
   "outputs": [
    {
     "name": "stdout",
     "output_type": "stream",
     "text": [
      "7\n",
      "31\n",
      "1\n",
      "10\n"
     ]
    }
   ],
   "source": [
    "#sum / del / len / min / max\n",
    "\n",
    "Li1 = [2,3,4,5,6,1,10]\n",
    "\n",
    "print(len(Li1))\n",
    "print(sum(Li1))\n",
    "print(min(Li1))\n",
    "print(max(Li1))\n"
   ]
  },
  {
   "cell_type": "code",
   "execution_count": 35,
   "metadata": {},
   "outputs": [
    {
     "name": "stdout",
     "output_type": "stream",
     "text": [
      "[3, 4]\n",
      "[4]\n"
     ]
    },
    {
     "ename": "NameError",
     "evalue": "name 'Li1' is not defined",
     "output_type": "error",
     "traceback": [
      "\u001b[1;31m---------------------------------------------------------------------------\u001b[0m",
      "\u001b[1;31mNameError\u001b[0m                                 Traceback (most recent call last)",
      "\u001b[1;32m<ipython-input-35-13c15108e158>\u001b[0m in \u001b[0;36m<module>\u001b[1;34m\u001b[0m\n\u001b[0;32m     13\u001b[0m \u001b[1;32mdel\u001b[0m \u001b[0mLi1\u001b[0m\u001b[1;33m\u001b[0m\u001b[1;33m\u001b[0m\u001b[0m\n\u001b[0;32m     14\u001b[0m \u001b[1;33m\u001b[0m\u001b[0m\n\u001b[1;32m---> 15\u001b[1;33m \u001b[0mprint\u001b[0m\u001b[1;33m(\u001b[0m\u001b[0mLi1\u001b[0m\u001b[1;33m)\u001b[0m\u001b[1;33m\u001b[0m\u001b[1;33m\u001b[0m\u001b[0m\n\u001b[0m",
      "\u001b[1;31mNameError\u001b[0m: name 'Li1' is not defined"
     ]
    }
   ],
   "source": [
    "#del\n",
    "\n",
    "Li1 = [3,4,5,6,1]\n",
    "\n",
    "del Li1[2:]\n",
    "\n",
    "print(Li1)\n",
    "\n",
    "del Li1[0]\n",
    "\n",
    "print(Li1)\n",
    "\n",
    "del Li1\n",
    "\n",
    "print(Li1)\n"
   ]
  },
  {
   "cell_type": "code",
   "execution_count": 44,
   "metadata": {},
   "outputs": [
    {
     "name": "stdout",
     "output_type": "stream",
     "text": [
      "[-1, 0, 1, 2, 3, 4, 5, 6]\n"
     ]
    }
   ],
   "source": [
    "Li1 = [3,4,5,6,2,1,-1,0]\n",
    "\n",
    "Li1.sort() #ascending order\n",
    "print(Li1)"
   ]
  },
  {
   "cell_type": "code",
   "execution_count": 40,
   "metadata": {},
   "outputs": [
    {
     "name": "stdout",
     "output_type": "stream",
     "text": [
      "[0, -1, 1, 2, 6, 5, 4, 3]\n"
     ]
    }
   ],
   "source": [
    "Li1 = [3,4,5,6,2,1,-1,0]\n",
    "\n",
    "Li1.reverse()\n",
    "print(Li1)"
   ]
  },
  {
   "cell_type": "code",
   "execution_count": 41,
   "metadata": {},
   "outputs": [
    {
     "name": "stdout",
     "output_type": "stream",
     "text": [
      "[6, 5, 4, 3, 2, 1, 0, -1]\n"
     ]
    }
   ],
   "source": [
    "Li1 = [3,4,5,6,2,1,-1,0]\n",
    "\n",
    "Li1.sort(reverse=True) #descending order\n",
    "print(Li1)"
   ]
  },
  {
   "cell_type": "code",
   "execution_count": null,
   "metadata": {},
   "outputs": [],
   "source": [
    "https://www.w3schools.com/python/python_ref_list.asp\n",
    "https://www.w3schools.com/python/python_lists_methods.asp"
   ]
  }
 ],
 "metadata": {
  "kernelspec": {
   "display_name": "Python 3",
   "language": "python",
   "name": "python3"
  },
  "language_info": {
   "codemirror_mode": {
    "name": "ipython",
    "version": 3
   },
   "file_extension": ".py",
   "mimetype": "text/x-python",
   "name": "python",
   "nbconvert_exporter": "python",
   "pygments_lexer": "ipython3",
   "version": "3.7.6"
  }
 },
 "nbformat": 4,
 "nbformat_minor": 4
}

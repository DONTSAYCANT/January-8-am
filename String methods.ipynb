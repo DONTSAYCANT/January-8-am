{
 "cells": [
  {
   "cell_type": "code",
   "execution_count": null,
   "metadata": {},
   "outputs": [],
   "source": [
    "#Method ===> specific (function inside a class)\n",
    "    #object oriented prgming\n",
    "    \n",
    "#Function ==> common functionality \n",
    "\n",
    "    Functional prmging\n",
    "    print()\n",
    "    len()\n",
    "    type()"
   ]
  },
  {
   "cell_type": "code",
   "execution_count": 4,
   "metadata": {},
   "outputs": [
    {
     "name": "stdout",
     "output_type": "stream",
     "text": [
      "8\n"
     ]
    }
   ],
   "source": [
    "#len\n",
    "\n",
    "\n",
    "a = \"computer\"\n",
    "print(len(a))"
   ]
  },
  {
   "cell_type": "code",
   "execution_count": 7,
   "metadata": {},
   "outputs": [
    {
     "name": "stdout",
     "output_type": "stream",
     "text": [
      "hello world\n"
     ]
    }
   ],
   "source": [
    "#concatenation\n",
    "\n",
    "a = \"hello\"\n",
    "b = \"world\"\n",
    "\n",
    "print(a + \" \" +  b)\n",
    "\n",
    "\n",
    "#print(\"hello\"+5)"
   ]
  },
  {
   "cell_type": "code",
   "execution_count": 8,
   "metadata": {},
   "outputs": [
    {
     "name": "stdout",
     "output_type": "stream",
     "text": [
      "PYTHON\n",
      "python\n"
     ]
    }
   ],
   "source": [
    "#upper/lower\n",
    "\n",
    "a = \"PYThon\"\n",
    "\n",
    "print(a.upper())\n",
    "print(a.lower())"
   ]
  },
  {
   "cell_type": "code",
   "execution_count": 9,
   "metadata": {},
   "outputs": [
    {
     "name": "stdout",
     "output_type": "stream",
     "text": [
      "pytHON IS usinG INTERPRETER\n",
      "Python Is Using Interpreter\n",
      "Python is using interpreter\n"
     ]
    }
   ],
   "source": [
    "#swapcase / title / capitalize\n",
    "\n",
    "a = \"PYThon is USINg interpreter\"\n",
    "\n",
    "print(a.swapcase())\n",
    "print(a.title())\n",
    "print(a.capitalize())\n"
   ]
  },
  {
   "cell_type": "code",
   "execution_count": 14,
   "metadata": {},
   "outputs": [
    {
     "name": "stdout",
     "output_type": "stream",
     "text": [
      "8\n",
      "6\n",
      "9\n"
     ]
    },
    {
     "ename": "ValueError",
     "evalue": "substring not found",
     "output_type": "error",
     "traceback": [
      "\u001b[1;31m---------------------------------------------------------------------------\u001b[0m",
      "\u001b[1;31mValueError\u001b[0m                                Traceback (most recent call last)",
      "\u001b[1;32m<ipython-input-14-3cd23c53ab61>\u001b[0m in \u001b[0;36m<module>\u001b[1;34m\u001b[0m\n\u001b[0;32m      6\u001b[0m \u001b[0mprint\u001b[0m\u001b[1;33m(\u001b[0m\u001b[0ma\u001b[0m\u001b[1;33m.\u001b[0m\u001b[0mindex\u001b[0m\u001b[1;33m(\u001b[0m\u001b[1;34m\"e\"\u001b[0m\u001b[1;33m)\u001b[0m\u001b[1;33m)\u001b[0m\u001b[1;33m\u001b[0m\u001b[1;33m\u001b[0m\u001b[0m\n\u001b[0;32m      7\u001b[0m \u001b[0mprint\u001b[0m\u001b[1;33m(\u001b[0m\u001b[0ma\u001b[0m\u001b[1;33m.\u001b[0m\u001b[0mindex\u001b[0m\u001b[1;33m(\u001b[0m\u001b[1;34m\"science\"\u001b[0m\u001b[1;33m)\u001b[0m\u001b[1;33m)\u001b[0m\u001b[1;33m\u001b[0m\u001b[1;33m\u001b[0m\u001b[0m\n\u001b[1;32m----> 8\u001b[1;33m \u001b[0mprint\u001b[0m\u001b[1;33m(\u001b[0m\u001b[0ma\u001b[0m\u001b[1;33m.\u001b[0m\u001b[0mindex\u001b[0m\u001b[1;33m(\u001b[0m\u001b[1;34m\"z\"\u001b[0m\u001b[1;33m)\u001b[0m\u001b[1;33m)\u001b[0m\u001b[1;33m\u001b[0m\u001b[1;33m\u001b[0m\u001b[0m\n\u001b[0m",
      "\u001b[1;31mValueError\u001b[0m: substring not found"
     ]
    }
   ],
   "source": [
    "#index\n",
    "\n",
    "a = \"computer_science\"\n",
    "\n",
    "print(a.index(\"_\"))\n",
    "print(a.index(\"e\"))\n",
    "print(a.index(\"science\"))\n",
    "print(a.index(\"z\"))"
   ]
  },
  {
   "cell_type": "code",
   "execution_count": 12,
   "metadata": {},
   "outputs": [
    {
     "name": "stdout",
     "output_type": "stream",
     "text": [
      "8\n",
      "6\n",
      "-1\n"
     ]
    }
   ],
   "source": [
    "#find\n",
    "\n",
    "a = \"computer_science\"\n",
    "\n",
    "print(a.find(\"_\"))\n",
    "print(a.find(\"e\"))\n",
    "print(a.find(\"z\"))"
   ]
  },
  {
   "cell_type": "code",
   "execution_count": 17,
   "metadata": {},
   "outputs": [
    {
     "name": "stdout",
     "output_type": "stream",
     "text": [
      "2\n",
      "0\n",
      "*ython *ython\n",
      "pytho# pytho#\n"
     ]
    }
   ],
   "source": [
    "#count / replace\n",
    "\n",
    "a = \"python python\"\n",
    "\n",
    "print(a.count(\"on\"))\n",
    "print(a.count(\"pz\"))\n",
    "\n",
    "print(a.replace(\"p\",\"*\"))\n",
    "print(a.replace(\"n\",\"#\"))\n"
   ]
  },
  {
   "cell_type": "code",
   "execution_count": 21,
   "metadata": {},
   "outputs": [
    {
     "name": "stdout",
     "output_type": "stream",
     "text": [
      "python\n",
      "python     \n",
      "     python\n",
      "  **python*****  \n",
      "***  **python*****  ****\n",
      "***  **python*****  ****\n"
     ]
    }
   ],
   "source": [
    "#strip / lstrip / rstrip\n",
    "\n",
    "a = \"     python     \"\n",
    "\n",
    "print(a.strip()) #white space default\n",
    "print(a.lstrip())\n",
    "print(a.rstrip())\n",
    "\n",
    "\n",
    "\n",
    "a = \"***  **python*****  ****\"\n",
    "\n",
    "print(a.strip(\"*\")) #white space default\n",
    "print(a.lstrip())\n",
    "print(a.rstrip())\n"
   ]
  },
  {
   "cell_type": "code",
   "execution_count": null,
   "metadata": {},
   "outputs": [],
   "source": [
    "#https://www.w3schools.com/python/python_ref_string.asp"
   ]
  },
  {
   "cell_type": "code",
   "execution_count": 22,
   "metadata": {},
   "outputs": [
    {
     "name": "stdout",
     "output_type": "stream",
     "text": [
      "True\n",
      "False\n",
      "True\n",
      "True\n"
     ]
    }
   ],
   "source": [
    "#islapha / isnum / ...\n",
    "\n",
    "a = \"10\"\n",
    "b = \"abc1020\"\n",
    "\n",
    "print(a.isnumeric())\n",
    "print(b.isalpha())\n",
    "print(a.isalnum())\n",
    "print(b.isalnum())"
   ]
  },
  {
   "cell_type": "code",
   "execution_count": 24,
   "metadata": {},
   "outputs": [
    {
     "name": "stdout",
     "output_type": "stream",
     "text": [
      "['python', 'is', 'using', 'interpreter', 'and', 'it', 'is', 'fast']\n",
      "['python ', ' using interpreter and it ', ' fast']\n",
      "['python is using interpreter and it is fast']\n"
     ]
    }
   ],
   "source": [
    "#split / join\n",
    "\n",
    "#input: string\n",
    "#output: [List]\n",
    "\n",
    "\n",
    "a = \"python is using interpreter and it is fast\"\n",
    "\n",
    "print(a.split()) #white space\n",
    "\n",
    "print(a.split(\"is\"))\n",
    "\n",
    "print(a.split(\"zz\"))\n"
   ]
  },
  {
   "cell_type": "code",
   "execution_count": 26,
   "metadata": {},
   "outputs": [
    {
     "name": "stdout",
     "output_type": "stream",
     "text": [
      "python_is_using_interpreter_and_it_is_fast\n"
     ]
    }
   ],
   "source": [
    "#Join\n",
    "\n",
    "#input: List\n",
    "#outpus: string\n",
    "\n",
    "a = ['python','is','using','interpreter','and','it','is','fast']\n",
    "\n",
    "b = \"_\".join(a)\n",
    "\n",
    "print(b)"
   ]
  },
  {
   "cell_type": "code",
   "execution_count": 29,
   "metadata": {},
   "outputs": [
    {
     "name": "stdout",
     "output_type": "stream",
     "text": [
      "False\n",
      "True\n",
      "True\n",
      "False\n",
      "True\n"
     ]
    }
   ],
   "source": [
    "#startswith/ endswith\n",
    "\n",
    "a = \"python\"\n",
    "\n",
    "print(a.startswith(\"pp\"))\n",
    "print(a.startswith(\"py\"))\n",
    "\n",
    "print(a.endswith(\"on\"))\n",
    "print(a.endswith(\"oo\"))\n",
    "print(a.endswith(\"\"))"
   ]
  },
  {
   "cell_type": "code",
   "execution_count": 30,
   "metadata": {},
   "outputs": [
    {
     "ename": "TypeError",
     "evalue": "'str' object does not support item assignment",
     "output_type": "error",
     "traceback": [
      "\u001b[1;31m---------------------------------------------------------------------------\u001b[0m",
      "\u001b[1;31mTypeError\u001b[0m                                 Traceback (most recent call last)",
      "\u001b[1;32m<ipython-input-30-3d82601d4ba1>\u001b[0m in \u001b[0;36m<module>\u001b[1;34m\u001b[0m\n\u001b[0;32m      3\u001b[0m \u001b[0ma\u001b[0m \u001b[1;33m=\u001b[0m \u001b[1;34m\"python\"\u001b[0m\u001b[1;33m\u001b[0m\u001b[1;33m\u001b[0m\u001b[0m\n\u001b[0;32m      4\u001b[0m \u001b[1;33m\u001b[0m\u001b[0m\n\u001b[1;32m----> 5\u001b[1;33m \u001b[0ma\u001b[0m\u001b[1;33m[\u001b[0m\u001b[1;36m3\u001b[0m\u001b[1;33m]\u001b[0m \u001b[1;33m=\u001b[0m \u001b[1;34m\"z\"\u001b[0m\u001b[1;33m\u001b[0m\u001b[1;33m\u001b[0m\u001b[0m\n\u001b[0m\u001b[0;32m      6\u001b[0m \u001b[1;33m\u001b[0m\u001b[0m\n\u001b[0;32m      7\u001b[0m \u001b[0mprint\u001b[0m\u001b[1;33m(\u001b[0m\u001b[0ma\u001b[0m\u001b[1;33m)\u001b[0m\u001b[1;33m\u001b[0m\u001b[1;33m\u001b[0m\u001b[0m\n",
      "\u001b[1;31mTypeError\u001b[0m: 'str' object does not support item assignment"
     ]
    }
   ],
   "source": [
    "#string assignment not possible\n",
    "\n",
    "a = \"python\"\n",
    "\n",
    "a[3] = \"z\"\n",
    "\n",
    "print(a)"
   ]
  },
  {
   "cell_type": "code",
   "execution_count": null,
   "metadata": {},
   "outputs": [],
   "source": []
  }
 ],
 "metadata": {
  "kernelspec": {
   "display_name": "Python 3",
   "language": "python",
   "name": "python3"
  },
  "language_info": {
   "codemirror_mode": {
    "name": "ipython",
    "version": 3
   },
   "file_extension": ".py",
   "mimetype": "text/x-python",
   "name": "python",
   "nbconvert_exporter": "python",
   "pygments_lexer": "ipython3",
   "version": "3.7.6"
  }
 },
 "nbformat": 4,
 "nbformat_minor": 4
}

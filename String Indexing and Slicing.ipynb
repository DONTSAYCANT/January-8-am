{
 "cells": [
  {
   "cell_type": "code",
   "execution_count": null,
   "metadata": {},
   "outputs": [],
   "source": [
    "#String:\n",
    "\n",
    "sequence of char\n",
    "collection of char\n",
    "\" \" or ' '\n",
    "\n",
    "\"python\" ===> \"p\" \"y\" \"t\" \"h\" \"o\" \"n\"\n",
    "\n",
    "#index values\n",
    "\n",
    "#Forward indexing starts with 0 from first char\n",
    "#reverse indexing #starts with -1 from last char\n",
    "\n",
    "\n",
    "#Indexing\n",
    "\n",
    "\n",
    "#Slicing: extracting sub string from a string\n",
    "\n",
    "\n",
    "#() ==> function call\n",
    "#[] ==> indexing and slicing"
   ]
  },
  {
   "cell_type": "code",
   "execution_count": 1,
   "metadata": {},
   "outputs": [
    {
     "name": "stdout",
     "output_type": "stream",
     "text": [
      "python\n"
     ]
    }
   ],
   "source": [
    "a = \"python\" #indexing\n",
    "\n",
    "print(a)\n",
    "\n",
    "print(a[0]) #p\n",
    "\n",
    "print(a[3]) #h\n",
    "\n",
    "print(a[-1]) #n\n",
    "\n",
    "print(a[-4]) #t\n",
    "\n",
    "\n"
   ]
  },
  {
   "cell_type": "code",
   "execution_count": null,
   "metadata": {},
   "outputs": [],
   "source": []
  }
 ],
 "metadata": {
  "kernelspec": {
   "display_name": "Python 3",
   "language": "python",
   "name": "python3"
  },
  "language_info": {
   "codemirror_mode": {
    "name": "ipython",
    "version": 3
   },
   "file_extension": ".py",
   "mimetype": "text/x-python",
   "name": "python",
   "nbconvert_exporter": "python",
   "pygments_lexer": "ipython3",
   "version": "3.7.6"
  }
 },
 "nbformat": 4,
 "nbformat_minor": 4
}

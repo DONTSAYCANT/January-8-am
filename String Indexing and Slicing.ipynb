{
 "cells": [
  {
   "cell_type": "code",
   "execution_count": null,
   "metadata": {},
   "outputs": [],
   "source": [
    "#String:\n",
    "\n",
    "sequence of char\n",
    "collection of char\n",
    "\" \" or ' '\n",
    "\n",
    "\"python\" ===> \"p\" \"y\" \"t\" \"h\" \"o\" \"n\"\n",
    "\n",
    "#index values\n",
    "\n",
    "#Forward indexing starts with 0 from first char\n",
    "#reverse indexing #starts with -1 from last char\n",
    "\n",
    "\n",
    "#Indexing\n",
    "\n",
    "\n",
    "#Slicing: extracting sub string from a string\n",
    "\n",
    "\n",
    "#() ==> function call\n",
    "#[] ==> indexing and slicing"
   ]
  },
  {
   "cell_type": "code",
   "execution_count": 1,
   "metadata": {},
   "outputs": [
    {
     "name": "stdout",
     "output_type": "stream",
     "text": [
      "python\n"
     ]
    }
   ],
   "source": [
    "a = \"python\" #indexing\n",
    "\n",
    "print(a)\n",
    "\n",
    "print(a[0]) #p\n",
    "\n",
    "print(a[3]) #h\n",
    "\n",
    "print(a[-1]) #n\n",
    "\n",
    "print(a[-4]) #t\n",
    "\n",
    "\n"
   ]
  },
  {
   "cell_type": "markdown",
   "metadata": {},
   "source": [
    "## String Slicing"
   ]
  },
  {
   "cell_type": "code",
   "execution_count": null,
   "metadata": {},
   "outputs": [],
   "source": [
    "#\n",
    "\n",
    "#[starting index (including): end index (exclude) : index interval (default = 1)]"
   ]
  },
  {
   "cell_type": "code",
   "execution_count": 1,
   "metadata": {},
   "outputs": [
    {
     "name": "stdout",
     "output_type": "stream",
     "text": [
      "puter\n",
      "ter_sc\n",
      "uter_\n",
      "er_scienc\n",
      "comput\n",
      "computer_\n",
      "ter_science\n",
      "er_science\n",
      "computer_science\n",
      "uter_science\n",
      "\n"
     ]
    }
   ],
   "source": [
    "#Type 1\n",
    "\n",
    "#starting index / ending index (both available or any one available or both unavailable)\n",
    "#index interval not available\n",
    "#extract string in only forward manner\n",
    "\n",
    "a = \"computer_science\"\n",
    "\n",
    "print(a[3:8])\n",
    "print(a[5:-5])\n",
    "print(a[-12:-7])\n",
    "print(a[-10:15])\n",
    "print(a[:6])\n",
    "print(a[:-7])\n",
    "print(a[5:])\n",
    "print(a[-10:])\n",
    "print(a[:])\n",
    "print(a[4:100])\n",
    "print(a[12:5]) #empty"
   ]
  },
  {
   "cell_type": "code",
   "execution_count": null,
   "metadata": {},
   "outputs": [],
   "source": [
    "puter\n",
    "ter_sc\n",
    "uter_\n",
    "er_scienc\n",
    "comput\n",
    "computer_\n",
    "ter_science\n",
    "er_science\n",
    "computer_science\n",
    "uter_science\n",
    "empty"
   ]
  },
  {
   "cell_type": "code",
   "execution_count": 2,
   "metadata": {},
   "outputs": [
    {
     "name": "stdout",
     "output_type": "stream",
     "text": [
      "computer_science\n"
     ]
    }
   ],
   "source": [
    "a = \"computer_science\"\n",
    "\n",
    "print(a[-20:])"
   ]
  },
  {
   "cell_type": "code",
   "execution_count": 3,
   "metadata": {},
   "outputs": [
    {
     "name": "stdout",
     "output_type": "stream",
     "text": [
      "computer_science\n"
     ]
    },
    {
     "ename": "IndexError",
     "evalue": "string index out of range",
     "output_type": "error",
     "traceback": [
      "\u001b[1;31m---------------------------------------------------------------------------\u001b[0m",
      "\u001b[1;31mIndexError\u001b[0m                                Traceback (most recent call last)",
      "\u001b[1;32m<ipython-input-3-29116267dd5c>\u001b[0m in \u001b[0;36m<module>\u001b[1;34m\u001b[0m\n\u001b[0;32m      3\u001b[0m \u001b[1;33m\u001b[0m\u001b[0m\n\u001b[0;32m      4\u001b[0m \u001b[0mprint\u001b[0m\u001b[1;33m(\u001b[0m\u001b[0ma\u001b[0m\u001b[1;33m[\u001b[0m\u001b[1;33m-\u001b[0m\u001b[1;36m20\u001b[0m\u001b[1;33m:\u001b[0m\u001b[1;33m]\u001b[0m\u001b[1;33m)\u001b[0m \u001b[1;31m#slicing #no error\u001b[0m\u001b[1;33m\u001b[0m\u001b[1;33m\u001b[0m\u001b[0m\n\u001b[1;32m----> 5\u001b[1;33m \u001b[0mprint\u001b[0m\u001b[1;33m(\u001b[0m\u001b[0ma\u001b[0m\u001b[1;33m[\u001b[0m\u001b[1;33m-\u001b[0m\u001b[1;36m20\u001b[0m\u001b[1;33m]\u001b[0m\u001b[1;33m)\u001b[0m \u001b[1;31m#indexing\u001b[0m\u001b[1;33m\u001b[0m\u001b[1;33m\u001b[0m\u001b[0m\n\u001b[0m",
      "\u001b[1;31mIndexError\u001b[0m: string index out of range"
     ]
    }
   ],
   "source": [
    "#rule\n",
    "\n",
    "\n",
    "print(a[-20:]) #slicing #no error\n",
    "print(a[-20]) #indexing"
   ]
  },
  {
   "cell_type": "code",
   "execution_count": 4,
   "metadata": {},
   "outputs": [
    {
     "name": "stdout",
     "output_type": "stream",
     "text": [
      "puter_s\n",
      "puter_s\n",
      "ptrs\n",
      "pes\n",
      "ter_sc\n",
      "trs\n",
      "tc\n",
      "cu\n",
      "t_ic\n",
      "cmue_cec\n",
      "\n"
     ]
    }
   ],
   "source": [
    "## Type2\n",
    "\n",
    "#starting index and ending index (both available or any one available or both unavailable)\n",
    "#index interval should be available (only positive index interval)\n",
    "#extract string in only forward manner\n",
    "\n",
    "\n",
    "val = \"computer_science\"\n",
    "\n",
    "print(val[3:10])\n",
    "print(val[3:10:1])\n",
    "print(val[3:10:2])\n",
    "print(val[3:10:3])\n",
    "print(val[5:-5:1])\n",
    "print(val[5:-5:2])\n",
    "print(val[5:-5:5])\n",
    "print(val[:8:4])\n",
    "print(val[5::3])\n",
    "print(val[::2])\n",
    "print(val[12:5:3])\n"
   ]
  },
  {
   "cell_type": "code",
   "execution_count": null,
   "metadata": {},
   "outputs": [],
   "source": [
    "puter_s\n",
    "puter_s\n",
    "ptrs\n",
    "pes\n",
    "ter_sc\n",
    "trs\n",
    "tc\n",
    "cu\n",
    "t_ic\n",
    "cmue_cec\n",
    "empty\n"
   ]
  }
 ],
 "metadata": {
  "kernelspec": {
   "display_name": "Python 3",
   "language": "python",
   "name": "python3"
  },
  "language_info": {
   "codemirror_mode": {
    "name": "ipython",
    "version": 3
   },
   "file_extension": ".py",
   "mimetype": "text/x-python",
   "name": "python",
   "nbconvert_exporter": "python",
   "pygments_lexer": "ipython3",
   "version": "3.7.6"
  }
 },
 "nbformat": 4,
 "nbformat_minor": 4
}
